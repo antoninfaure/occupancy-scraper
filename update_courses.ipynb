{
 "cells": [
  {
   "cell_type": "code",
   "execution_count": 1,
   "metadata": {},
   "outputs": [],
   "source": [
    "%load_ext autoreload\n",
    "%autoreload 2\n",
    "from pymongo import MongoClient\n",
    "from config import *\n",
    "import utils\n",
    "from tqdm import tqdm\n",
    "from datetime import datetime\n",
    "import db_utils\n",
    "from bson.objectid import ObjectId"
   ]
  },
  {
   "cell_type": "code",
   "execution_count": 2,
   "metadata": {},
   "outputs": [
    {
     "name": "stderr",
     "output_type": "stream",
     "text": [
      "                                                               "
     ]
    },
    {
     "name": "stdout",
     "output_type": "stream",
     "text": [
      "-- DB initialized -- \n"
     ]
    },
    {
     "name": "stderr",
     "output_type": "stream",
     "text": [
      "\r"
     ]
    }
   ],
   "source": [
    "client = MongoClient(f\"mongodb+srv://{DB_USER}:{DB_PASSWORD}@{DB_URL}/?retryWrites=true&w=majority\")\n",
    "\n",
    "db = client[DB_NAME]\n",
    "\n",
    "db_utils.init(db)"
   ]
  },
  {
   "cell_type": "code",
   "execution_count": 3,
   "metadata": {},
   "outputs": [
    {
     "name": "stdout",
     "output_type": "stream",
     "text": [
      "Getting all courses urls...\n"
     ]
    },
    {
     "name": "stderr",
     "output_type": "stream",
     "text": [
      "100%|██████████| 5/5 [00:44<00:00,  8.85s/it]\n"
     ]
    },
    {
     "name": "stdout",
     "output_type": "stream",
     "text": [
      "- 1928 courses urls found\n",
      "Parsing courses...\n"
     ]
    },
    {
     "name": "stderr",
     "output_type": "stream",
     "text": [
      "100%|██████████| 1928/1928 [01:26<00:00, 22.36it/s]"
     ]
    },
    {
     "name": "stdout",
     "output_type": "stream",
     "text": [
      "- 1928 courses parsed\n"
     ]
    },
    {
     "name": "stderr",
     "output_type": "stream",
     "text": [
      "\n"
     ]
    }
   ],
   "source": [
    "# Parse all courses\n",
    "courses = utils.parse_all_courses()"
   ]
  },
  {
   "cell_type": "code",
   "execution_count": 4,
   "metadata": {},
   "outputs": [],
   "source": [
    "unique_courses = utils.filter_duplicates_courses(courses)"
   ]
  },
  {
   "cell_type": "code",
   "execution_count": null,
   "metadata": {},
   "outputs": [],
   "source": [
    "#course = utils.parse_course(\"https://edu.epfl.ch/studyplan/fr/master/data-science/coursebook/foundations-of-data-science-COM-406\")"
   ]
  },
  {
   "cell_type": "code",
   "execution_count": null,
   "metadata": {},
   "outputs": [
    {
     "name": "stdout",
     "output_type": "stream",
     "text": [
      "Getting courses from DB...\n",
      "- 2087 courses found in DB\n",
      "Filtering courses...\n"
     ]
    },
    {
     "name": "stderr",
     "output_type": "stream",
     "text": [
      "100%|██████████| 1853/1853 [00:00<00:00, 48180.21it/s]"
     ]
    },
    {
     "name": "stdout",
     "output_type": "stream",
     "text": [
      "Creating courses...\n",
      "- No new courses to create\n"
     ]
    },
    {
     "name": "stderr",
     "output_type": "stream",
     "text": [
      "\n"
     ]
    }
   ],
   "source": [
    "utils.create_courses(db, unique_courses)"
   ]
  },
  {
   "cell_type": "code",
   "execution_count": null,
   "metadata": {},
   "outputs": [
    {
     "name": "stdout",
     "output_type": "stream",
     "text": [
      "Getting teachers from DB...\n",
      "- 1410 teachers found\n",
      "Filtering teachers...\n"
     ]
    },
    {
     "name": "stderr",
     "output_type": "stream",
     "text": [
      "100%|██████████| 1853/1853 [00:00<00:00, 20360.59it/s]"
     ]
    },
    {
     "name": "stdout",
     "output_type": "stream",
     "text": [
      "Creating new teachers...\n",
      "- No new teachers\n"
     ]
    },
    {
     "name": "stderr",
     "output_type": "stream",
     "text": [
      "\n"
     ]
    }
   ],
   "source": [
    "utils.create_teachers(db, unique_courses)"
   ]
  },
  {
   "cell_type": "code",
   "execution_count": null,
   "metadata": {},
   "outputs": [
    {
     "name": "stdout",
     "output_type": "stream",
     "text": [
      "Getting teachers from DB...\n",
      "- 1410 teachers found\n",
      "Adding teachers to courses...\n"
     ]
    },
    {
     "name": "stderr",
     "output_type": "stream",
     "text": [
      "100%|██████████| 1853/1853 [02:36<00:00, 11.87it/s]\n"
     ]
    }
   ],
   "source": [
    "utils.add_teachers_to_courses(db, unique_courses)"
   ]
  },
  {
   "cell_type": "code",
   "execution_count": 5,
   "metadata": {},
   "outputs": [],
   "source": [
    "# # Spring 2023-2024\n",
    "# skip_dates = [\n",
    "#     datetime(2024, 3, 29),\n",
    "#     datetime(2024, 4, 1),\n",
    "#     datetime(2024, 4, 2),\n",
    "#     datetime(2024, 4, 3),\n",
    "#     datetime(2024, 4, 4),\n",
    "#     datetime(2024, 4, 5),\n",
    "#     datetime(2024, 5, 9),\n",
    "#     datetime(2024, 5, 20),\n",
    "# ]\n",
    "\n",
    "# utils.create_new_semester(db,\n",
    "#     name=\"Semestre d'automne 2023-2024\",\n",
    "#     start_date=datetime(2023, 9, 18),\n",
    "#     end_date=datetime(2023, 12, 22),\n",
    "#     skip_dates=[datetime(2023, 9, 18)],\n",
    "#     type=\"fall\",\n",
    "#     available=True\n",
    "# )\n",
    "\n",
    "# utils.create_new_semester(db,\n",
    "#     name=\"Semestre de printemps 2023-2024\",\n",
    "#     start_date=datetime(2024, 2, 19),\n",
    "#     end_date=datetime(2024, 5, 31),\n",
    "#     skip_dates=skip_dates,\n",
    "#     type=\"spring\",\n",
    "#     available=True\n",
    "# )\n",
    "\n",
    "# utils.create_new_semester(db,\n",
    "#     name=\"2023-2024\",\n",
    "#     start_date=datetime(2024, 9, 1),\n",
    "#     end_date=datetime(2024, 8, 30),\n",
    "#     skip_dates=skip_dates,\n",
    "#     type=\"year\",\n",
    "#     available=True\n",
    "# )\n",
    "\n",
    "# Fall 2024-2025\n",
        "# skip_dates = [\n",
        "#     datetime(2024, 9, 16),\n",
        "#     datetime(2024, 10, 21),\n",
        "#     datetime(2024, 10, 22),\n",
        "#     datetime(2024, 10, 23),\n",
        "#     datetime(2024, 10, 24),\n",
        "#     datetime(2024, 10, 25),\n",
        "#     datetime(2025, 4, 18),\n",
        "#     datetime(2025, 4, 21),\n",
        "#     datetime(2025, 4, 22),\n",
        "#     datetime(2025, 4, 23),\n",
        "#     datetime(2025, 4, 24),\n",
        "#     datetime(2025, 4, 25),\n",
        "#     datetime(2025, 5, 29),\n",
        "# ]\n",
        "\n",
        "# utils.create_new_semester(db,\n",
        "#     name=\"Semestre d'automne 2024-2025\",\n",
        "#     start_date=datetime(2024, 9, 16),\n",
        "#     end_date=datetime(2024, 12, 22),\n",
        "#     skip_dates=skip_dates,\n",
        "#     type=\"fall\",\n",
        "#     available=True\n",
        "# )\n",
        "\n",
        "# utils.create_new_semester(db,\n",
        "#     name=\"Semestre de printemps 2024-2025\",\n",
        "#     start_date=datetime(2025, 2, 17),\n",
        "#     end_date=datetime(2025, 6, 1),\n",
        "#     skip_dates=skip_dates,\n",
        "#     type=\"spring\",\n",
        "#     available=True\n",
        "# )\n",
        "\n",
        "# utils.create_new_semester(db,\n",
        "#     name=\"2024-2025\",\n",
        "#     start_date=datetime(2024, 9, 9),\n",
        "#     end_date=datetime(2025, 6, 1),\n",
        "#     skip_dates=skip_dates,\n",
        "#     type=\"year\",\n",
        "#     available=True\n",
        "# )\n",
        "\n",
        "\n",
        "# Fall 2025-2026\n",
        "skip_dates = [\n",
        "    datetime(2025, 9, 22),\n",
        "    datetime(2025, 10, 20),\n",
        "    datetime(2025, 10, 21),\n",
        "    datetime(2025, 10, 22),\n",
        "    datetime(2025, 10, 23),\n",
        "    datetime(2025, 10, 24),\n",
        "]\n",
        "\n",
        "utils.create_new_semester(db,\n",
        "    name=\"Semestre d'automne 2025-2026\",\n",
        "    start_date=datetime(2025, 9, 15),\n",
        "    end_date=datetime(2025, 12, 21),\n",
        "    skip_dates=skip_dates,\n",
        "    type=\"fall\",\n",
        "    available=True\n",
        ")"
      ]
    },
    {
      "cell_type": "code",
   "execution_count": 5,
   "metadata": {},
   "outputs": [
    {
     "name": "stdout",
     "output_type": "stream",
     "text": [
      "Getting units from DB...\n",
      "- 392 units found\n",
      "Filtering units...\n"
     ]
    },
    {
     "name": "stderr",
     "output_type": "stream",
     "text": [
      "100%|██████████| 379/379 [00:00<00:00, 106160.09it/s]"
     ]
    },
    {
     "name": "stdout",
     "output_type": "stream",
     "text": [
      "Creating new units...\n",
      "- 2 units created\n"
     ]
    },
    {
     "name": "stderr",
     "output_type": "stream",
     "text": [
      "\n"
     ]
    }
   ],
   "source": [
    "utils.create_units(db, unique_courses)"
   ]
  },
  {
   "cell_type": "code",
   "execution_count": 6,
   "metadata": {},
   "outputs": [
    {
     "name": "stdout",
     "output_type": "stream",
     "text": [
      "Getting studyplans from DB...\n",
      "- 737 studyplans found\n",
      "Filtering studyplans...\n",
      "Creating studyplans...\n",
      "- 1 studyplans created\n"
     ]
    }
   ],
   "source": [
    "utils.create_studyplans(db, unique_courses)"
   ]
  },
  {
   "cell_type": "code",
   "execution_count": 8,
   "metadata": {},
   "outputs": [
    {
     "name": "stdout",
     "output_type": "stream",
     "text": [
      "Getting studyplans from DB...\n",
      "- 175 studyplans found\n",
      "Getting planned_in from DB...\n",
      "- 2861 planned_in found\n",
      "Filtering planned_in...\n"
     ]
    },
    {
     "name": "stderr",
     "output_type": "stream",
     "text": [
      "100%|██████████| 1923/1923 [00:00<00:00, 4415.52it/s]"
     ]
    },
    {
     "name": "stdout",
     "output_type": "stream",
     "text": [
      "Creating planned_in...\n",
      "- No new planned_in to create\n"
     ]
    },
    {
     "name": "stderr",
     "output_type": "stream",
     "text": [
      "\n"
     ]
    }
   ],
   "source": [
    "utils.create_planned_in(db, unique_courses)"
   ]
  },
  {
   "cell_type": "code",
   "execution_count": null,
   "metadata": {},
   "outputs": [],
   "source": []
  }
 ],
 "metadata": {
  "kernelspec": {
   "display_name": "Python 3",
   "language": "python",
   "name": "python3"
  },
  "language_info": {
   "codemirror_mode": {
    "name": "ipython",
    "version": 3
   },
   "file_extension": ".py",
   "mimetype": "text/x-python",
   "name": "python",
   "nbconvert_exporter": "python",
   "pygments_lexer": "ipython3",
   "version": "3.10.13"
  }
 },
 "nbformat": 4,
 "nbformat_minor": 2
}
