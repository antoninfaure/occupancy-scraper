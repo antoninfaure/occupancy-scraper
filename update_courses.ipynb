{
 "cells": [
  {
   "cell_type": "code",
   "execution_count": 2,
   "metadata": {},
   "outputs": [
    {
     "name": "stdout",
     "output_type": "stream",
     "text": [
      "The autoreload extension is already loaded. To reload it, use:\n",
      "  %reload_ext autoreload\n"
     ]
    },
    {
     "ename": "ModuleNotFoundError",
     "evalue": "No module named 'pyproj'",
     "output_type": "error",
     "traceback": [
      "\u001b[31m---------------------------------------------------------------------------\u001b[39m",
      "\u001b[31mModuleNotFoundError\u001b[39m                       Traceback (most recent call last)",
      "\u001b[36mCell\u001b[39m\u001b[36m \u001b[39m\u001b[32mIn[2]\u001b[39m\u001b[32m, line 3\u001b[39m\n\u001b[32m      1\u001b[39m get_ipython().run_line_magic(\u001b[33m'\u001b[39m\u001b[33mload_ext\u001b[39m\u001b[33m'\u001b[39m, \u001b[33m'\u001b[39m\u001b[33mautoreload\u001b[39m\u001b[33m'\u001b[39m)\n\u001b[32m      2\u001b[39m get_ipython().run_line_magic(\u001b[33m'\u001b[39m\u001b[33mautoreload\u001b[39m\u001b[33m'\u001b[39m, \u001b[33m'\u001b[39m\u001b[33m2\u001b[39m\u001b[33m'\u001b[39m)\n\u001b[32m----> \u001b[39m\u001b[32m3\u001b[39m \u001b[38;5;28;01mfrom\u001b[39;00m\u001b[38;5;250m \u001b[39m\u001b[34;01mutils\u001b[39;00m\u001b[38;5;250m \u001b[39m\u001b[38;5;28;01mimport\u001b[39;00m parse_all_courses, filter_duplicates_courses, create_courses, create_teachers, add_teachers_to_courses, create_new_semester, create_units, create_studyplans, create_planned_in\n\u001b[32m      4\u001b[39m \u001b[38;5;28;01mfrom\u001b[39;00m\u001b[38;5;250m \u001b[39m\u001b[34;01mdatetime\u001b[39;00m\u001b[38;5;250m \u001b[39m\u001b[38;5;28;01mimport\u001b[39;00m datetime\n\u001b[32m      5\u001b[39m \u001b[38;5;28;01mfrom\u001b[39;00m\u001b[38;5;250m \u001b[39m\u001b[34;01mdb_utils\u001b[39;00m\u001b[38;5;250m \u001b[39m\u001b[38;5;28;01mimport\u001b[39;00m init_and_connect\n",
      "\u001b[36mFile \u001b[39m\u001b[32m~/Documents/occupancy-scraper/utils.py:11\u001b[39m\n\u001b[32m      9\u001b[39m \u001b[38;5;28;01mimport\u001b[39;00m\u001b[38;5;250m \u001b[39m\u001b[34;01mrequests\u001b[39;00m\n\u001b[32m     10\u001b[39m \u001b[38;5;28;01mfrom\u001b[39;00m\u001b[38;5;250m \u001b[39m\u001b[34;01mbs4\u001b[39;00m\u001b[38;5;250m \u001b[39m\u001b[38;5;28;01mimport\u001b[39;00m BeautifulSoup\n\u001b[32m---> \u001b[39m\u001b[32m11\u001b[39m \u001b[38;5;28;01mfrom\u001b[39;00m\u001b[38;5;250m \u001b[39m\u001b[34;01mpyproj\u001b[39;00m\u001b[38;5;250m \u001b[39m\u001b[38;5;28;01mimport\u001b[39;00m Transformer \u001b[38;5;28;01mas\u001b[39;00m pyproj_Transformer\n\u001b[32m     12\u001b[39m \u001b[38;5;28;01mfrom\u001b[39;00m\u001b[38;5;250m \u001b[39m\u001b[34;01mtqdm\u001b[39;00m\u001b[38;5;250m \u001b[39m\u001b[38;5;28;01mimport\u001b[39;00m tqdm\n\u001b[32m     14\u001b[39m \u001b[38;5;28;01mfrom\u001b[39;00m\u001b[38;5;250m \u001b[39m\u001b[34;01mconfig\u001b[39;00m\u001b[38;5;250m \u001b[39m\u001b[38;5;28;01mimport\u001b[39;00m (\n\u001b[32m     15\u001b[39m     MAP_PROMOS_LONG,\n\u001b[32m     16\u001b[39m     MAP_ROOMS,\n\u001b[32m   (...)\u001b[39m\u001b[32m     19\u001b[39m     ROOMS_FILTER,\n\u001b[32m     20\u001b[39m )\n",
      "\u001b[31mModuleNotFoundError\u001b[39m: No module named 'pyproj'"
     ]
    }
   ],
   "source": [
    "%load_ext autoreload\n",
    "%autoreload 2\n",
    "from utils import (\n",
    "    parse_all_courses,\n",
    "    filter_duplicates_courses,\n",
    "    create_courses,\n",
    "    create_teachers,\n",
    "    add_teachers_to_courses,\n",
    "    create_new_semester,\n",
    "    create_units,\n",
    "    create_studyplans,\n",
    "    create_planned_in,\n",
    ")\n",
    "from datetime import datetime\n",
    "from db_utils import init_and_connect\n",
    "\n",
    "from dotenv import load_dotenv\n",
    "from settings import Settings"
   ]
  },
  {
   "cell_type": "code",
   "execution_count": null,
   "metadata": {},
   "outputs": [
    {
     "name": "stderr",
     "output_type": "stream",
     "text": [
      "                                                               "
     ]
    },
    {
     "name": "stdout",
     "output_type": "stream",
     "text": [
      "-- DB initialized -- \n"
     ]
    },
    {
     "name": "stderr",
     "output_type": "stream",
     "text": [
      "\r"
     ]
    }
   ],
   "source": [
    "load_dotenv()\n",
    "settings = Settings()\n",
    "db = init_and_connect(settings)"
   ]
  },
  {
   "cell_type": "code",
   "execution_count": null,
   "metadata": {},
   "outputs": [
    {
     "name": "stdout",
     "output_type": "stream",
     "text": [
      "Getting all courses urls...\n"
     ]
    },
    {
     "name": "stderr",
     "output_type": "stream",
     "text": [
      "100%|██████████| 5/5 [00:44<00:00,  8.85s/it]\n"
     ]
    },
    {
     "name": "stdout",
     "output_type": "stream",
     "text": [
      "- 1928 courses urls found\n",
      "Parsing courses...\n"
     ]
    },
    {
     "name": "stderr",
     "output_type": "stream",
     "text": [
      "100%|██████████| 1928/1928 [01:26<00:00, 22.36it/s]"
     ]
    },
    {
     "name": "stdout",
     "output_type": "stream",
     "text": [
      "- 1928 courses parsed\n"
     ]
    },
    {
     "name": "stderr",
     "output_type": "stream",
     "text": [
      "\n"
     ]
    }
   ],
   "source": [
    "# Parse all courses\n",
    "courses = parse_all_courses()"
   ]
  },
  {
   "cell_type": "code",
   "execution_count": null,
   "metadata": {},
   "outputs": [],
   "source": [
    "unique_courses = filter_duplicates_courses(courses)"
   ]
  },
  {
   "cell_type": "code",
   "execution_count": null,
   "metadata": {},
   "outputs": [],
   "source": [
    "# course = parse_course(\"https://edu.epfl.ch/studyplan/fr/master/data-science/coursebook/foundations-of-data-science-COM-406\")"
   ]
  },
  {
   "cell_type": "code",
   "execution_count": null,
   "metadata": {},
   "outputs": [
    {
     "name": "stdout",
     "output_type": "stream",
     "text": [
      "Getting courses from DB...\n",
      "- 2087 courses found in DB\n",
      "Filtering courses...\n"
     ]
    },
    {
     "name": "stderr",
     "output_type": "stream",
     "text": [
      "100%|██████████| 1853/1853 [00:00<00:00, 48180.21it/s]"
     ]
    },
    {
     "name": "stdout",
     "output_type": "stream",
     "text": [
      "Creating courses...\n",
      "- No new courses to create\n"
     ]
    },
    {
     "name": "stderr",
     "output_type": "stream",
     "text": [
      "\n"
     ]
    }
   ],
   "source": [
    "create_courses(db, unique_courses)"
   ]
  },
  {
   "cell_type": "code",
   "execution_count": null,
   "metadata": {},
   "outputs": [
    {
     "name": "stdout",
     "output_type": "stream",
     "text": [
      "Getting teachers from DB...\n",
      "- 1410 teachers found\n",
      "Filtering teachers...\n"
     ]
    },
    {
     "name": "stderr",
     "output_type": "stream",
     "text": [
      "100%|██████████| 1853/1853 [00:00<00:00, 20360.59it/s]"
     ]
    },
    {
     "name": "stdout",
     "output_type": "stream",
     "text": [
      "Creating new teachers...\n",
      "- No new teachers\n"
     ]
    },
    {
     "name": "stderr",
     "output_type": "stream",
     "text": [
      "\n"
     ]
    }
   ],
   "source": [
    "create_teachers(db, unique_courses)"
   ]
  },
  {
   "cell_type": "code",
   "execution_count": null,
   "metadata": {},
   "outputs": [
    {
     "name": "stdout",
     "output_type": "stream",
     "text": [
      "Getting teachers from DB...\n",
      "- 1410 teachers found\n",
      "Adding teachers to courses...\n"
     ]
    },
    {
     "name": "stderr",
     "output_type": "stream",
     "text": [
      "100%|██████████| 1853/1853 [02:36<00:00, 11.87it/s]\n"
     ]
    }
   ],
   "source": [
    "add_teachers_to_courses(db, unique_courses)"
   ]
  },
  {
   "cell_type": "code",
   "execution_count": null,
   "metadata": {},
   "outputs": [],
   "source": [
    "# # Spring 2023-2024\n",
    "# skip_dates = [\n",
    "#     datetime(2024, 3, 29),\n",
    "#     datetime(2024, 4, 1),\n",
    "#     datetime(2024, 4, 2),\n",
    "#     datetime(2024, 4, 3),\n",
    "#     datetime(2024, 4, 4),\n",
    "#     datetime(2024, 4, 5),\n",
    "#     datetime(2024, 5, 9),\n",
    "#     datetime(2024, 5, 20),\n",
    "# ]\n",
    "\n",
    "# create_new_semester(db,\n",
    "#     name=\"Semestre d'automne 2023-2024\",\n",
    "#     start_date=datetime(2023, 9, 18),\n",
    "#     end_date=datetime(2023, 12, 22),\n",
    "#     skip_dates=[datetime(2023, 9, 18)],\n",
    "#     type=\"fall\",\n",
    "#     available=True\n",
    "# )\n",
    "\n",
    "# create_new_semester(db,\n",
    "#     name=\"Semestre de printemps 2023-2024\",\n",
    "#     start_date=datetime(2024, 2, 19),\n",
    "#     end_date=datetime(2024, 5, 31),\n",
    "#     skip_dates=skip_dates,\n",
    "#     type=\"spring\",\n",
    "#     available=True\n",
    "# )\n",
    "\n",
    "# create_new_semester(db,\n",
    "#     name=\"2023-2024\",\n",
    "#     start_date=datetime(2024, 9, 1),\n",
    "#     end_date=datetime(2024, 8, 30),\n",
    "#     skip_dates=skip_dates,\n",
    "#     type=\"year\",\n",
    "#     available=True\n",
    "# )\n",
    "\n",
    "# Fall 2024-2025\n",
    "# skip_dates = [\n",
    "#     datetime(2024, 9, 16),\n",
    "#     datetime(2024, 10, 21),\n",
    "#     datetime(2024, 10, 22),\n",
    "#     datetime(2024, 10, 23),\n",
    "#     datetime(2024, 10, 24),\n",
    "#     datetime(2024, 10, 25),\n",
    "#     datetime(2025, 4, 18),\n",
    "#     datetime(2025, 4, 21),\n",
    "#     datetime(2025, 4, 22),\n",
    "#     datetime(2025, 4, 23),\n",
    "#     datetime(2025, 4, 24),\n",
    "#     datetime(2025, 4, 25),\n",
    "#     datetime(2025, 5, 29),\n",
    "# ]\n",
    "\n",
    "# create_new_semester(db,\n",
    "#     name=\"Semestre d'automne 2024-2025\",\n",
    "#     start_date=datetime(2024, 9, 16),\n",
    "#     end_date=datetime(2024, 12, 22),\n",
    "#     skip_dates=skip_dates,\n",
    "#     type=\"fall\",\n",
    "#     available=True\n",
    "# )\n",
    "\n",
    "# create_new_semester(db,\n",
    "#     name=\"Semestre de printemps 2024-2025\",\n",
    "#     start_date=datetime(2025, 2, 17),\n",
    "#     end_date=datetime(2025, 6, 1),\n",
    "#     skip_dates=skip_dates,\n",
    "#     type=\"spring\",\n",
    "#     available=True\n",
    "# )\n",
    "\n",
    "# create_new_semester(db,\n",
    "#     name=\"2024-2025\",\n",
    "#     start_date=datetime(2024, 9, 9),\n",
    "#     end_date=datetime(2025, 6, 1),\n",
    "#     skip_dates=skip_dates,\n",
    "#     type=\"year\",\n",
    "#     available=True\n",
    "# )\n",
    "\n",
    "\n",
    "# Fall 2025-2026\n",
    "skip_dates = [\n",
    "    datetime(2025, 9, 22),\n",
    "    datetime(2025, 10, 20),\n",
    "    datetime(2025, 10, 21),\n",
    "    datetime(2025, 10, 22),\n",
    "    datetime(2025, 10, 23),\n",
    "    datetime(2025, 10, 24),\n",
    "]\n",
    "\n",
    "create_new_semester(\n",
    "    db,\n",
    "    name=\"Semestre d'automne 2025-2026\",\n",
    "    start_date=datetime(2025, 9, 15),\n",
    "    end_date=datetime(2025, 12, 21),\n",
    "    skip_dates=skip_dates,\n",
    "    type=\"fall\",\n",
    "    available=True,\n",
    ")"
   ]
  },
  {
   "cell_type": "code",
   "execution_count": null,
   "metadata": {},
   "outputs": [
    {
     "name": "stdout",
     "output_type": "stream",
     "text": [
      "Getting units from DB...\n",
      "- 392 units found\n",
      "Filtering units...\n"
     ]
    },
    {
     "name": "stderr",
     "output_type": "stream",
     "text": [
      "100%|██████████| 379/379 [00:00<00:00, 106160.09it/s]"
     ]
    },
    {
     "name": "stdout",
     "output_type": "stream",
     "text": [
      "Creating new units...\n",
      "- 2 units created\n"
     ]
    },
    {
     "name": "stderr",
     "output_type": "stream",
     "text": [
      "\n"
     ]
    }
   ],
   "source": [
    "create_units(db, unique_courses)"
   ]
  },
  {
   "cell_type": "code",
   "execution_count": null,
   "metadata": {},
   "outputs": [
    {
     "name": "stdout",
     "output_type": "stream",
     "text": [
      "Getting studyplans from DB...\n",
      "- 737 studyplans found\n",
      "Filtering studyplans...\n",
      "Creating studyplans...\n",
      "- 1 studyplans created\n"
     ]
    }
   ],
   "source": [
    "create_studyplans(db, unique_courses)"
   ]
  },
  {
   "cell_type": "code",
   "execution_count": null,
   "metadata": {},
   "outputs": [
    {
     "name": "stdout",
     "output_type": "stream",
     "text": [
      "Getting studyplans from DB...\n",
      "- 175 studyplans found\n",
      "Getting planned_in from DB...\n",
      "- 2861 planned_in found\n",
      "Filtering planned_in...\n"
     ]
    },
    {
     "name": "stderr",
     "output_type": "stream",
     "text": [
      "100%|██████████| 1923/1923 [00:00<00:00, 4415.52it/s]"
     ]
    },
    {
     "name": "stdout",
     "output_type": "stream",
     "text": [
      "Creating planned_in...\n",
      "- No new planned_in to create\n"
     ]
    },
    {
     "name": "stderr",
     "output_type": "stream",
     "text": [
      "\n"
     ]
    }
   ],
   "source": [
    "create_planned_in(db, unique_courses)"
   ]
  },
  {
   "cell_type": "code",
   "execution_count": null,
   "metadata": {},
   "outputs": [],
   "source": []
  }
 ],
 "metadata": {
  "kernelspec": {
   "display_name": "occupancy-scraper (3.12.9)",
   "language": "python",
   "name": "python3"
  },
  "language_info": {
   "codemirror_mode": {
    "name": "ipython",
    "version": 3
   },
   "file_extension": ".py",
   "mimetype": "text/x-python",
   "name": "python",
   "nbconvert_exporter": "python",
   "pygments_lexer": "ipython3",
   "version": "3.12.9"
  }
 },
 "nbformat": 4,
 "nbformat_minor": 2
}
