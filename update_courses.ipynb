{
 "cells": [
  {
   "cell_type": "code",
   "execution_count": 45,
   "metadata": {},
   "outputs": [
    {
     "name": "stdout",
     "output_type": "stream",
     "text": [
      "The autoreload extension is already loaded. To reload it, use:\n",
      "  %reload_ext autoreload\n"
     ]
    }
   ],
   "source": [
    "%load_ext autoreload\n",
    "%autoreload 2\n",
    "from pymongo import MongoClient\n",
    "from config import *\n",
    "import utils\n",
    "from tqdm import tqdm\n",
    "from datetime import datetime\n",
    "import db_utils\n",
    "from bson.objectid import ObjectId"
   ]
  },
  {
   "cell_type": "code",
   "execution_count": 34,
   "metadata": {},
   "outputs": [
    {
     "name": "stderr",
     "output_type": "stream",
     "text": [
      "Initializing DB:   0%|          | 0/11 [00:00<?, ?it/s]"
     ]
    },
    {
     "name": "stdout",
     "output_type": "stream",
     "text": [
      "Created collection planned_in\n"
     ]
    },
    {
     "name": "stderr",
     "output_type": "stream",
     "text": [
      "                                                               "
     ]
    },
    {
     "name": "stdout",
     "output_type": "stream",
     "text": [
      "-- DB initialized -- \n"
     ]
    },
    {
     "name": "stderr",
     "output_type": "stream",
     "text": [
      "\r"
     ]
    }
   ],
   "source": [
    "client = MongoClient(f\"mongodb+srv://{DB_USER}:{DB_PASSWORD}@{DB_URL}/?retryWrites=true&w=majority\")\n",
    "\n",
    "db = client[DB_NAME]\n",
    "\n",
    "db_utils.init(db)"
   ]
  },
  {
   "cell_type": "code",
   "execution_count": 22,
   "metadata": {},
   "outputs": [
    {
     "name": "stdout",
     "output_type": "stream",
     "text": [
      "Getting all courses urls...\n"
     ]
    },
    {
     "name": "stderr",
     "output_type": "stream",
     "text": [
      "100%|██████████| 5/5 [00:10<00:00,  2.13s/it]\n"
     ]
    },
    {
     "name": "stdout",
     "output_type": "stream",
     "text": [
      "- 1930 courses urls found\n",
      "Parsing courses...\n"
     ]
    },
    {
     "name": "stderr",
     "output_type": "stream",
     "text": [
      "100%|██████████| 1930/1930 [02:35<00:00, 12.39it/s]"
     ]
    },
    {
     "name": "stdout",
     "output_type": "stream",
     "text": [
      "- 1930 courses parsed\n"
     ]
    },
    {
     "name": "stderr",
     "output_type": "stream",
     "text": [
      "\n"
     ]
    }
   ],
   "source": [
    "# Parse all courses\n",
    "courses = utils.parse_all_courses()"
   ]
  },
  {
   "cell_type": "code",
   "execution_count": 23,
   "metadata": {},
   "outputs": [],
   "source": [
    "unique_courses = utils.filter_duplicates_courses(courses)"
   ]
  },
  {
   "cell_type": "code",
   "execution_count": 24,
   "metadata": {},
   "outputs": [],
   "source": [
    "course = utils.parse_course(\"https://edu.epfl.ch/studyplan/fr/master/data-science/coursebook/foundations-of-data-science-COM-406\")"
   ]
  },
  {
   "cell_type": "code",
   "execution_count": 25,
   "metadata": {},
   "outputs": [
    {
     "name": "stdout",
     "output_type": "stream",
     "text": [
      "Getting courses from DB...\n",
      "- 1926 courses found in DB\n",
      "Filtering courses...\n"
     ]
    },
    {
     "name": "stderr",
     "output_type": "stream",
     "text": [
      "100%|██████████| 1926/1926 [00:00<00:00, 110735.01it/s]"
     ]
    },
    {
     "name": "stdout",
     "output_type": "stream",
     "text": [
      "Creating courses...\n",
      "- No new courses to create\n"
     ]
    },
    {
     "name": "stderr",
     "output_type": "stream",
     "text": [
      "\n"
     ]
    }
   ],
   "source": [
    "utils.create_courses(db, unique_courses)"
   ]
  },
  {
   "cell_type": "code",
   "execution_count": 6,
   "metadata": {},
   "outputs": [
    {
     "name": "stdout",
     "output_type": "stream",
     "text": [
      "Getting teachers from DB...\n",
      "- 0 teachers found\n",
      "Filtering teachers...\n"
     ]
    },
    {
     "name": "stderr",
     "output_type": "stream",
     "text": [
      "100%|██████████| 1926/1926 [00:00<00:00, 28386.20it/s]"
     ]
    },
    {
     "name": "stdout",
     "output_type": "stream",
     "text": [
      "Creating new teachers...\n"
     ]
    },
    {
     "name": "stderr",
     "output_type": "stream",
     "text": [
      "\n"
     ]
    },
    {
     "name": "stdout",
     "output_type": "stream",
     "text": [
      "- 1269 teachers created\n"
     ]
    }
   ],
   "source": [
    "utils.create_teachers(db, unique_courses)"
   ]
  },
  {
   "cell_type": "code",
   "execution_count": 7,
   "metadata": {},
   "outputs": [
    {
     "name": "stdout",
     "output_type": "stream",
     "text": [
      "Getting teachers from DB...\n",
      "- 1269 teachers found\n",
      "Adding teachers to courses...\n"
     ]
    },
    {
     "name": "stderr",
     "output_type": "stream",
     "text": [
      "100%|██████████| 1926/1926 [00:44<00:00, 43.00it/s]\n"
     ]
    }
   ],
   "source": [
    "utils.add_teachers_to_courses(db, unique_courses)"
   ]
  },
  {
   "cell_type": "code",
   "execution_count": 42,
   "metadata": {},
   "outputs": [
    {
     "name": "stdout",
     "output_type": "stream",
     "text": [
      "E11000 duplicate key error collection: occupancy-epfl-prod.semesters index: semester_unique dup key: { name: \"Semestre de printemps 2023-2024\" }, full error: {'index': 0, 'code': 11000, 'errmsg': 'E11000 duplicate key error collection: occupancy-epfl-prod.semesters index: semester_unique dup key: { name: \"Semestre de printemps 2023-2024\" }', 'keyPattern': {'name': 1}, 'keyValue': {'name': 'Semestre de printemps 2023-2024'}}\n",
      "E11000 duplicate key error collection: occupancy-epfl-prod.semesters index: semester_unique dup key: { name: \"2023-2024\" }, full error: {'index': 0, 'code': 11000, 'errmsg': 'E11000 duplicate key error collection: occupancy-epfl-prod.semesters index: semester_unique dup key: { name: \"2023-2024\" }', 'keyPattern': {'name': 1}, 'keyValue': {'name': '2023-2024'}}\n"
     ]
    }
   ],
   "source": [
    "# Spring 2023-2024\n",
    "skip_dates = [\n",
    "    datetime(2024, 3, 29),\n",
    "    datetime(2024, 4, 1),\n",
    "    datetime(2024, 4, 2),\n",
    "    datetime(2024, 4, 3),\n",
    "    datetime(2024, 4, 4),\n",
    "    datetime(2024, 4, 5),\n",
    "    datetime(2024, 5, 9),\n",
    "    datetime(2024, 5, 20),\n",
    "]\n",
    "\n",
    "utils.create_new_semester(db,\n",
    "    name=\"Semestre d'automne 2023-2024\",\n",
    "    start_date=datetime(2023, 9, 18),\n",
    "    end_date=datetime(2023, 12, 22),\n",
    "    skip_dates=[datetime(2023, 9, 18)],\n",
    "    type=\"fall\",\n",
    "    available=True\n",
    ")\n",
    "\n",
    "utils.create_new_semester(db,\n",
    "    name=\"Semestre de printemps 2023-2024\",\n",
    "    start_date=datetime(2024, 2, 19),\n",
    "    end_date=datetime(2024, 5, 31),\n",
    "    skip_dates=skip_dates,\n",
    "    type=\"spring\",\n",
    "    available=True\n",
    ")\n",
    "\n",
    "utils.create_new_semester(db,\n",
    "    name=\"2023-2024\",\n",
    "    start_date=datetime(2024, 9, 1),\n",
    "    end_date=datetime(2024, 8, 30),\n",
    "    skip_dates=skip_dates,\n",
    "    type=\"year\",\n",
    "    available=True\n",
    ")"
   ]
  },
  {
   "cell_type": "code",
   "execution_count": 9,
   "metadata": {},
   "outputs": [
    {
     "name": "stdout",
     "output_type": "stream",
     "text": [
      "Getting units from DB...\n",
      "- 0 units found\n",
      "Filtering units...\n"
     ]
    },
    {
     "name": "stderr",
     "output_type": "stream",
     "text": [
      "100%|██████████| 373/373 [00:00<00:00, 181325.38it/s]\n"
     ]
    },
    {
     "name": "stdout",
     "output_type": "stream",
     "text": [
      "Creating new units...\n",
      "- 368 units created\n"
     ]
    }
   ],
   "source": [
    "utils.create_units(db, unique_courses)"
   ]
  },
  {
   "cell_type": "code",
   "execution_count": 47,
   "metadata": {},
   "outputs": [
    {
     "name": "stdout",
     "output_type": "stream",
     "text": [
      "Getting studyplans from DB...\n",
      "- 195 studyplans found\n",
      "Filtering studyplans...\n",
      "Creating studyplans...\n",
      "- 172 studyplans created\n"
     ]
    }
   ],
   "source": [
    "utils.create_studyplans(db, unique_courses)"
   ]
  },
  {
   "cell_type": "code",
   "execution_count": 48,
   "metadata": {},
   "outputs": [
    {
     "name": "stdout",
     "output_type": "stream",
     "text": [
      "Getting studyplans from DB...\n",
      "- 367 studyplans found\n",
      "Getting planned_in from DB...\n",
      "- 3366 planned_in found\n",
      "Filtering planned_in...\n"
     ]
    },
    {
     "name": "stderr",
     "output_type": "stream",
     "text": [
      "100%|██████████| 1926/1926 [00:03<00:00, 557.11it/s]\n"
     ]
    },
    {
     "name": "stdout",
     "output_type": "stream",
     "text": [
      "Creating planned_in...\n",
      "- 3051 planned_in created\n"
     ]
    }
   ],
   "source": [
    "utils.create_planned_in(db, unique_courses)"
   ]
  }
 ],
 "metadata": {
  "kernelspec": {
   "display_name": "Python 3",
   "language": "python",
   "name": "python3"
  },
  "language_info": {
   "codemirror_mode": {
    "name": "ipython",
    "version": 3
   },
   "file_extension": ".py",
   "mimetype": "text/x-python",
   "name": "python",
   "nbconvert_exporter": "python",
   "pygments_lexer": "ipython3",
   "version": "3.11.6"
  }
 },
 "nbformat": 4,
 "nbformat_minor": 2
}
