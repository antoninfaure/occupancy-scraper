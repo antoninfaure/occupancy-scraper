{
 "cells": [
  {
   "cell_type": "code",
   "execution_count": 1,
   "metadata": {},
   "outputs": [],
   "source": [
    "%load_ext autoreload\n",
    "%autoreload 2\n",
    "from pymongo import MongoClient\n",
    "from config import *\n",
    "import utils\n",
    "from tqdm import tqdm\n",
    "from datetime import datetime\n",
    "import db_utils\n",
    "from bson.objectid import ObjectId"
   ]
  },
  {
   "cell_type": "code",
   "execution_count": 2,
   "metadata": {},
   "outputs": [
    {
     "name": "stderr",
     "output_type": "stream",
     "text": [
      "                                                               "
     ]
    },
    {
     "name": "stdout",
     "output_type": "stream",
     "text": [
      "-- DB initialized -- \n"
     ]
    },
    {
     "name": "stderr",
     "output_type": "stream",
     "text": [
      "\r"
     ]
    }
   ],
   "source": [
    "client = MongoClient(f\"mongodb+srv://{DB_USER}:{DB_PASSWORD}@{DB_URL}/?retryWrites=true&w=majority\")\n",
    "\n",
    "db = client[DB_NAME]\n",
    "\n",
    "db_utils.init(db)"
   ]
  },
  {
   "cell_type": "code",
   "execution_count": 3,
   "metadata": {},
   "outputs": [
    {
     "name": "stdout",
     "output_type": "stream",
     "text": [
      "Getting studyplans from DB...\n",
      "- 175 studyplans found\n",
      "Getting studyplans from DB...\n",
      "- 23 studyplans found\n",
      "Getting courses from DB...\n",
      "- 1259 courses found\n"
     ]
    },
    {
     "name": "stderr",
     "output_type": "stream",
     "text": [
      "Processing courses schedules:  55%|█████▌    | 696/1259 [00:24<00:15, 36.49it/s]"
     ]
    },
    {
     "name": "stdout",
     "output_type": "stream",
     "text": [
      "https://edu.epfl.ch/studyplan/fr/bachelor/mathematiques/coursebook/topological-groups-MATH-315\n",
      "No schedule found for https://edu.epfl.ch/studyplan/fr/bachelor/mathematiques/coursebook/topological-groups-MATH-315\n"
     ]
    },
    {
     "name": "stderr",
     "output_type": "stream",
     "text": [
      "Processing courses schedules:  70%|███████   | 886/1259 [00:30<00:15, 24.23it/s]"
     ]
    },
    {
     "name": "stdout",
     "output_type": "stream",
     "text": [
      "https://edu.epfl.ch/studyplan/fr/ecole_doctorale/photonique/coursebook/photonic-crystals-PHYS-605\n",
      "No schedule found for https://edu.epfl.ch/studyplan/fr/ecole_doctorale/photonique/coursebook/photonic-crystals-PHYS-605\n"
     ]
    },
    {
     "name": "stderr",
     "output_type": "stream",
     "text": [
      "Processing courses schedules:  88%|████████▊ | 1111/1259 [00:47<00:08, 16.77it/s]"
     ]
    },
    {
     "name": "stdout",
     "output_type": "stream",
     "text": [
      "https://edu.epfl.ch/studyplan/fr/ecole_doctorale/cours-blocs/coursebook/insights-on-magnetic-and-semiconducting-nanostructures-PHYS-646\n",
      "No schedule found for https://edu.epfl.ch/studyplan/fr/ecole_doctorale/cours-blocs/coursebook/insights-on-magnetic-and-semiconducting-nanostructures-PHYS-646\n"
     ]
    },
    {
     "name": "stderr",
     "output_type": "stream",
     "text": [
      "Processing courses schedules:  93%|█████████▎| 1166/1259 [00:51<00:05, 17.30it/s]"
     ]
    },
    {
     "name": "stdout",
     "output_type": "stream",
     "text": [
      "https://edu.epfl.ch/studyplan/fr/ecole_doctorale/transversal-skills-courses/coursebook/teaching-stem-a-problem-solving-approach-spring-ENG-644-B\n",
      "No schedule found for https://edu.epfl.ch/studyplan/fr/ecole_doctorale/transversal-skills-courses/coursebook/teaching-stem-a-problem-solving-approach-spring-ENG-644-B\n"
     ]
    },
    {
     "name": "stderr",
     "output_type": "stream",
     "text": [
      "Processing courses schedules:  97%|█████████▋| 1215/1259 [00:53<00:02, 15.64it/s]"
     ]
    },
    {
     "name": "stdout",
     "output_type": "stream",
     "text": [
      "https://edu.epfl.ch/studyplan/fr/ecole_doctorale/biotechnologie-et-genie-biologique/coursebook/cibm-translational-mr-neuroimaging-spectroscopy-PHYS-760\n",
      "No schedule found for https://edu.epfl.ch/studyplan/fr/ecole_doctorale/biotechnologie-et-genie-biologique/coursebook/cibm-translational-mr-neuroimaging-spectroscopy-PHYS-760\n"
     ]
    },
    {
     "name": "stderr",
     "output_type": "stream",
     "text": [
      "Processing courses schedules:  99%|█████████▊| 1241/1259 [00:56<00:01, 10.96it/s]"
     ]
    },
    {
     "name": "stdout",
     "output_type": "stream",
     "text": [
      "https://edu.epfl.ch/studyplan/fr/ecole_doctorale/transversal-skills-courses/coursebook/teaching-stem-a-problem-solving-approach-fall-ENG-644-A\n",
      "No schedule found for https://edu.epfl.ch/studyplan/fr/ecole_doctorale/transversal-skills-courses/coursebook/teaching-stem-a-problem-solving-approach-fall-ENG-644-A\n"
     ]
    },
    {
     "name": "stderr",
     "output_type": "stream",
     "text": [
      "Processing courses schedules: 100%|██████████| 1259/1259 [00:58<00:00, 21.53it/s]\n"
     ]
    }
   ],
   "source": [
    "schedules = utils.find_courses_schedules(db)"
   ]
  },
  {
   "cell_type": "code",
   "execution_count": 26,
   "metadata": {},
   "outputs": [
    {
     "name": "stdout",
     "output_type": "stream",
     "text": [
      "Getting rooms from plan.epfl.ch\n"
     ]
    },
    {
     "name": "stderr",
     "output_type": "stream",
     "text": [
      "100%|██████████| 11/11 [00:11<00:00,  1.08s/it]\n"
     ]
    },
    {
     "name": "stdout",
     "output_type": "stream",
     "text": [
      "Parsing rooms...\n"
     ]
    },
    {
     "name": "stderr",
     "output_type": "stream",
     "text": [
      "100%|██████████| 10/10 [00:55<00:00,  5.59s/it]\n"
     ]
    },
    {
     "name": "stdout",
     "output_type": "stream",
     "text": [
      "Found 15564 rooms on plan.epfl.ch\n",
      "Getting rooms from database\n",
      "Found 179 rooms in database\n",
      "Updating rooms in database\n"
     ]
    },
    {
     "name": "stderr",
     "output_type": "stream",
     "text": [
      "100%|██████████| 179/179 [00:04<00:00, 40.46it/s]\n"
     ]
    },
    {
     "name": "stdout",
     "output_type": "stream",
     "text": [
      "Filtering rooms to create\n"
     ]
    },
    {
     "name": "stderr",
     "output_type": "stream",
     "text": [
      "100%|██████████| 2/2 [00:00<00:00, 354.92it/s]"
     ]
    },
    {
     "name": "stdout",
     "output_type": "stream",
     "text": [
      "Inserting 2 new rooms in database\n"
     ]
    },
    {
     "name": "stderr",
     "output_type": "stream",
     "text": [
      "\n"
     ]
    }
   ],
   "source": [
    "utils.create_rooms(db, schedules=schedules)"
   ]
  },
  {
   "cell_type": "code",
   "execution_count": 4,
   "metadata": {},
   "outputs": [
    {
     "name": "stdout",
     "output_type": "stream",
     "text": [
      "Getting schedules from DB...\n",
      "- 19971 schedules found\n",
      "Filtering 19971 schedules...\n"
     ]
    },
    {
     "name": "stderr",
     "output_type": "stream",
     "text": [
      "100%|██████████| 19971/19971 [00:02<00:00, 7784.03it/s] "
     ]
    },
    {
     "name": "stdout",
     "output_type": "stream",
     "text": [
      "Deleting schedules not in incoming schedules...\n",
      "- 0 schedules deleted\n",
      "No new schedules to create\n"
     ]
    },
    {
     "name": "stderr",
     "output_type": "stream",
     "text": [
      "\n"
     ]
    }
   ],
   "source": [
    "utils.update_schedules(db, schedules)"
   ]
  },
  {
   "cell_type": "code",
   "execution_count": 6,
   "metadata": {},
   "outputs": [
    {
     "name": "stdout",
     "output_type": "stream",
     "text": [
      "Getting DB bookings...\n",
      "- 23302 bookings found in DB\n",
      "Filtering bookings....\n"
     ]
    },
    {
     "name": "stderr",
     "output_type": "stream",
     "text": [
      "100%|██████████| 19971/19971 [02:57<00:00, 112.29it/s]\n"
     ]
    },
    {
     "name": "stdout",
     "output_type": "stream",
     "text": [
      " - 0 bookings changed (not the schedule) (to remove)\n",
      "Removing bookings without schedule...\n"
     ]
    },
    {
     "name": "stderr",
     "output_type": "stream",
     "text": [
      "100%|██████████| 23302/23302 [00:31<00:00, 738.88it/s] \n"
     ]
    },
    {
     "name": "stdout",
     "output_type": "stream",
     "text": [
      "- No bookings to remove\n",
      "Checking if new bookings are in unavailable bookings...\n"
     ]
    },
    {
     "name": "stderr",
     "output_type": "stream",
     "text": [
      "100%|██████████| 86/86 [00:00<00:00, 3813.29it/s]\n"
     ]
    },
    {
     "name": "stdout",
     "output_type": "stream",
     "text": [
      "- 52 bookings (re)made available\n",
      "Creating 34 new bookings...\n",
      "- 34 bookings created\n"
     ]
    }
   ],
   "source": [
    "utils.create_courses_bookings(db, schedules)"
   ]
  }
 ],
 "metadata": {
  "kernelspec": {
   "display_name": "Python 3",
   "language": "python",
   "name": "python3"
  },
  "language_info": {
   "codemirror_mode": {
    "name": "ipython",
    "version": 3
   },
   "file_extension": ".py",
   "mimetype": "text/x-python",
   "name": "python",
   "nbconvert_exporter": "python",
   "pygments_lexer": "ipython3",
   "version": "3.10.13"
  }
 },
 "nbformat": 4,
 "nbformat_minor": 2
}
