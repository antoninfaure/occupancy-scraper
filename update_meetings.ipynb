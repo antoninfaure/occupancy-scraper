{
 "cells": [
  {
   "cell_type": "code",
   "execution_count": 1,
   "metadata": {},
   "outputs": [],
   "source": [
    "%load_ext autoreload\n",
    "%autoreload 2\n",
    "import requests\n",
    "from bs4 import BeautifulSoup\n",
    "from pymongo import MongoClient\n",
    "from config import *\n",
    "import utils\n",
    "from tqdm import tqdm\n",
    "from datetime import datetime, timedelta\n",
    "import db_utils\n",
    "from bson.objectid import ObjectId\n",
    "import json"
   ]
  },
  {
   "cell_type": "code",
   "execution_count": 2,
   "metadata": {},
   "outputs": [
    {
     "name": "stderr",
     "output_type": "stream",
     "text": [
      "                                                               "
     ]
    },
    {
     "name": "stdout",
     "output_type": "stream",
     "text": [
      "-- DB initialized -- \n"
     ]
    },
    {
     "name": "stderr",
     "output_type": "stream",
     "text": [
      "\r"
     ]
    }
   ],
   "source": [
    "client = MongoClient(f\"mongodb+srv://{DB_USER}:{DB_PASSWORD}@{DB_URL}/?retryWrites=true&w=majority\")\n",
    "\n",
    "db = client[DB_NAME]\n",
    "\n",
    "db_utils.init(db)"
   ]
  },
  {
   "cell_type": "code",
   "execution_count": 3,
   "metadata": {},
   "outputs": [],
   "source": [
    "available_rooms = json.load(open(\"ewa_rooms.json\", \"r\"))"
   ]
  },
  {
   "cell_type": "code",
   "execution_count": 4,
   "metadata": {},
   "outputs": [
    {
     "ename": "NameError",
     "evalue": "name 'available_rooms' is not defined",
     "output_type": "error",
     "traceback": [
      "\u001b[0;31m---------------------------------------------------------------------------\u001b[0m",
      "\u001b[0;31mNameError\u001b[0m                                 Traceback (most recent call last)",
      "Cell \u001b[0;32mIn[4], line 7\u001b[0m\n\u001b[1;32m      4\u001b[0m start_date \u001b[38;5;241m=\u001b[39m start_datetime\u001b[38;5;241m.\u001b[39mstrftime(\u001b[38;5;124m\"\u001b[39m\u001b[38;5;124m%\u001b[39m\u001b[38;5;124mY-\u001b[39m\u001b[38;5;124m%\u001b[39m\u001b[38;5;124mm-\u001b[39m\u001b[38;5;132;01m%d\u001b[39;00m\u001b[38;5;124mT\u001b[39m\u001b[38;5;124m%\u001b[39m\u001b[38;5;124mH:\u001b[39m\u001b[38;5;124m%\u001b[39m\u001b[38;5;124mM:\u001b[39m\u001b[38;5;124m%\u001b[39m\u001b[38;5;124mS\u001b[39m\u001b[38;5;124m\"\u001b[39m)\n\u001b[1;32m      5\u001b[0m end_date \u001b[38;5;241m=\u001b[39m end_datetime\u001b[38;5;241m.\u001b[39mstrftime(\u001b[38;5;124m\"\u001b[39m\u001b[38;5;124m%\u001b[39m\u001b[38;5;124mY-\u001b[39m\u001b[38;5;124m%\u001b[39m\u001b[38;5;124mm-\u001b[39m\u001b[38;5;132;01m%d\u001b[39;00m\u001b[38;5;124mT\u001b[39m\u001b[38;5;124m%\u001b[39m\u001b[38;5;124mH:\u001b[39m\u001b[38;5;124m%\u001b[39m\u001b[38;5;124mM:\u001b[39m\u001b[38;5;124m%\u001b[39m\u001b[38;5;124mS\u001b[39m\u001b[38;5;124m\"\u001b[39m)\n\u001b[0;32m----> 7\u001b[0m new_events \u001b[38;5;241m=\u001b[39m utils\u001b[38;5;241m.\u001b[39mparse_all_rooms_events(\u001b[43mavailable_rooms\u001b[49m, start_date, end_date)\n",
      "\u001b[0;31mNameError\u001b[0m: name 'available_rooms' is not defined"
     ]
    }
   ],
   "source": [
    "start_datetime = datetime.now()\n",
    "end_datetime = start_datetime + timedelta(days=30)\n",
    "\n",
    "start_date = start_datetime.strftime(\"%Y-%m-%dT%H:%M:%S\")\n",
    "end_date = end_datetime.strftime(\"%Y-%m-%dT%H:%M:%S\")\n",
    "\n",
    "new_events = utils.parse_all_rooms_events(available_rooms, start_date, end_date)"
   ]
  },
  {
   "cell_type": "code",
   "execution_count": 8,
   "metadata": {},
   "outputs": [
    {
     "name": "stderr",
     "output_type": "stream",
     "text": [
      "0it [00:00, ?it/s]\n"
     ]
    }
   ],
   "source": [
    "new_events_with_rooms = utils.populate_events_room(db, new_events)"
   ]
  },
  {
   "cell_type": "code",
   "execution_count": 10,
   "metadata": {},
   "outputs": [
    {
     "data": {
      "text/plain": [
       "[]"
      ]
     },
     "execution_count": 10,
     "metadata": {},
     "output_type": "execute_result"
    }
   ],
   "source": [
    "new_events_with_rooms"
   ]
  },
  {
   "cell_type": "code",
   "execution_count": 16,
   "metadata": {},
   "outputs": [
    {
     "name": "stderr",
     "output_type": "stream",
     "text": [
      "100%|██████████| 310/310 [00:00<00:00, 43817.29it/s]"
     ]
    },
    {
     "name": "stdout",
     "output_type": "stream",
     "text": [
      "No new bookings to create\n"
     ]
    },
    {
     "name": "stderr",
     "output_type": "stream",
     "text": [
      "\n"
     ]
    }
   ],
   "source": [
    "utils.create_event_bookings(db, new_events_with_rooms)"
   ]
  },
  {
   "cell_type": "code",
   "execution_count": 26,
   "metadata": {},
   "outputs": [
    {
     "data": {
      "text/plain": [
       "[]"
      ]
     },
     "execution_count": 26,
     "metadata": {},
     "output_type": "execute_result"
    }
   ],
   "source": [
    "utils.parse_room_events('BC07-08', \"2024-01-15T00:00:00\", \"2024-01-22T00:00:00\")"
   ]
  },
  {
   "cell_type": "code",
   "execution_count": 72,
   "metadata": {},
   "outputs": [
    {
     "name": "stdout",
     "output_type": "stream",
     "text": [
      "0|{\"StartDate\":\"2024-02-26T00:00:00\",\"HeaderLevels\":1,\"Colors\":[[\"White\",\"White\",\"White\",\"White\",\"White\",\"White\",\"White\"],[\"White\",\"White\",\"White\",\"White\",\"White\",\"White\",\"White\"],[\"White\",\"White\",\"White\",\"White\",\"White\",\"White\",\"White\"],[\"White\",\"White\",\"White\",\"White\",\"White\",\"White\",\"White\"],[\"White\",\"White\",\"White\",\"White\",\"White\",\"White\",\"White\"],[\"White\",\"White\",\"White\",\"White\",\"White\",\"White\",\"White\"],[\"White\",\"White\",\"White\",\"White\",\"White\",\"White\",\"White\"],[\"White\",\"White\",\"White\",\"White\",\"White\",\"White\",\"White\"],[\"White\",\"White\",\"White\",\"White\",\"White\",\"White\",\"White\"],[\"White\",\"White\",\"White\",\"White\",\"White\",\"White\",\"White\"],[\"White\",\"White\",\"White\",\"White\",\"White\",\"White\",\"White\"],[\"White\",\"White\",\"White\",\"White\",\"White\",\"White\",\"White\"],[\"White\",\"White\",\"White\",\"White\",\"White\",\"White\",\"White\"],[\"White\",\"White\",\"White\",\"White\",\"White\",\"White\",\"White\"],[\"White\",\"White\",\"White\",\"White\",\"White\",\"White\",\"White\"],[\"White\",\"White\",\"White\",\"White\",\"White\",\"White\",\"White\"],[\"White\",\"White\",\"White\",\"White\",\"White\",\"White\",\"White\"],[\"White\",\"White\",\"White\",\"White\",\"White\",\"White\",\"White\"],[\"White\",\"White\",\"White\",\"White\",\"White\",\"White\",\"White\"],[\"White\",\"White\",\"White\",\"White\",\"White\",\"White\",\"White\"],[\"White\",\"White\",\"White\",\"White\",\"White\",\"White\",\"White\"],[\"White\",\"White\",\"White\",\"White\",\"White\",\"White\",\"White\"],[\"White\",\"White\",\"White\",\"White\",\"White\",\"White\",\"White\"],[\"White\",\"White\",\"White\",\"White\",\"White\",\"White\",\"White\"],[\"White\",\"White\",\"White\",\"White\",\"White\",\"White\",\"White\"],[\"White\",\"White\",\"White\",\"White\",\"White\",\"White\",\"White\"],[\"White\",\"White\",\"White\",\"White\",\"White\",\"White\",\"White\"],[\"White\",\"White\",\"White\",\"White\",\"White\",\"White\",\"White\"],[\"White\",\"White\",\"White\",\"White\",\"White\",\"White\",\"White\"],[\"White\",\"White\",\"White\",\"White\",\"White\",\"White\",\"White\"],[\"White\",\"White\",\"White\",\"White\",\"White\",\"White\",\"White\"],[\"White\",\"White\",\"White\",\"White\",\"White\",\"White\",\"White\"],[\"White\",\"White\",\"White\",\"White\",\"White\",\"White\",\"White\"],[\"White\",\"White\",\"White\",\"White\",\"White\",\"White\",\"White\"],[\"White\",\"White\",\"White\",\"White\",\"White\",\"White\",\"White\"],[\"White\",\"White\",\"White\",\"White\",\"White\",\"White\",\"White\"],[\"White\",\"White\",\"White\",\"White\",\"White\",\"White\",\"White\"],[\"White\",\"White\",\"White\",\"White\",\"White\",\"White\",\"White\"],[\"White\",\"White\",\"White\",\"White\",\"White\",\"White\",\"White\"],[\"White\",\"White\",\"White\",\"White\",\"White\",\"White\",\"White\"],[\"White\",\"White\",\"White\",\"White\",\"White\",\"White\",\"White\"],[\"White\",\"White\",\"White\",\"White\",\"White\",\"White\",\"White\"],[\"White\",\"White\",\"White\",\"White\",\"White\",\"White\",\"White\"],[\"White\",\"White\",\"White\",\"White\",\"White\",\"White\",\"White\"],[\"White\",\"White\",\"White\",\"White\",\"White\",\"White\",\"White\"],[\"White\",\"White\",\"White\",\"White\",\"White\",\"White\",\"White\"],[\"White\",\"White\",\"White\",\"White\",\"White\",\"White\",\"White\"],[\"White\",\"White\",\"White\",\"White\",\"White\",\"White\",\"White\"]],\"Days\":7,\"Events\":[],\"Hours\":null,\"CornerHTML\":\"<div style=\\'padding:2px; text-align:center; font-weight: bold;\\'>2024</div>\",\"Columns\":[{\"Start\":\"2024-02-26T00:00:00\",\"Value\":null,\"ToolTip\":null,\"BackColor\":\"#F3F3F9\",\"InnerHTML\":\"26.02.2024\",\"Name\":\"26.02.2024\"},{\"Start\":\"2024-02-27T00:00:00\",\"Value\":null,\"ToolTip\":null,\"BackColor\":\"#F3F3F9\",\"InnerHTML\":\"27.02.2024\",\"Name\":\"27.02.2024\"},{\"Start\":\"2024-02-28T00:00:00\",\"Value\":null,\"ToolTip\":null,\"BackColor\":\"#F3F3F9\",\"InnerHTML\":\"28.02.2024\",\"Name\":\"28.02.2024\"},{\"Start\":\"2024-02-29T00:00:00\",\"Value\":null,\"ToolTip\":null,\"BackColor\":\"#F3F3F9\",\"InnerHTML\":\"29.02.2024\",\"Name\":\"29.02.2024\"},{\"Start\":\"2024-03-01T00:00:00\",\"Value\":null,\"ToolTip\":null,\"BackColor\":\"#F3F3F9\",\"InnerHTML\":\"01.03.2024\",\"Name\":\"01.03.2024\"},{\"Start\":\"2024-03-02T00:00:00\",\"Value\":null,\"ToolTip\":null,\"BackColor\":\"#F3F3F9\",\"InnerHTML\":\"02.03.2024\",\"Name\":\"02.03.2024\"},{\"Start\":\"2024-03-03T00:00:00\",\"Value\":null,\"ToolTip\":null,\"BackColor\":\"#F3F3F9\",\"InnerHTML\":\"03.03.2024\",\"Name\":\"03.03.2024\"}],\"CallBackData\":null,\"ViewType\":\"Days\",\"CellDuration\":30,\"Hashes\":{\"callBack\":\"9//pGddoUbwDniXBu1mGrGmPQlU=\",\"columns\":\"hSaRuKFG5k0rmUXytBL6YB2KJCY=\",\"events\":\"l9Fw4VUO7kr8CvBlt4zaMCqXZ0w=\",\"colors\":\"yZPEYHYr06OEnA6RhYzrzWE7mk8=\",\"hours\":\"K+iMpCQsduglOsYkdIUQZQMtaDM=\",\"corner\":\"0XBQYL2rjFh+nn9As5pzf4+hWqg=\"},\"CornerBackColor\":\"#F3F3F9\",\"UpdateType\":\"Full\",\"Message\":null,\"VsUpdate\":\"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\"}\n"
     ]
    },
    {
     "data": {
      "text/plain": [
       "[]"
      ]
     },
     "execution_count": 72,
     "metadata": {},
     "output_type": "execute_result"
    }
   ],
   "source": [
    "utils.parse_room_events('BC01', \"2024-02-26T00:00:00\", \"2024-03-04T00:00:00\")"
   ]
  }
 ],
 "metadata": {
  "kernelspec": {
   "display_name": "Python 3",
   "language": "python",
   "name": "python3"
  },
  "language_info": {
   "codemirror_mode": {
    "name": "ipython",
    "version": 3
   },
   "file_extension": ".py",
   "mimetype": "text/x-python",
   "name": "python",
   "nbconvert_exporter": "python",
   "pygments_lexer": "ipython3",
   "version": "3.11.6"
  }
 },
 "nbformat": 4,
 "nbformat_minor": 2
}
